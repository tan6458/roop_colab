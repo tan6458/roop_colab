{
  "cells": [
    {
      "cell_type": "markdown",
      "metadata": {
        "id": "view-in-github",
        "colab_type": "text"
      },
      "source": [
        "<a href=\"https://colab.research.google.com/github/tan6458/roop_colab/blob/main/tonyff.ipynb\" target=\"_parent\"><img src=\"https://colab.research.google.com/assets/colab-badge.svg\" alt=\"Open In Colab\"/></a>"
      ]
    },
    {
      "cell_type": "markdown",
      "metadata": {
        "id": "6ZV95cvmGy3X"
      },
      "source": [
        "一个AI换脸的项目,可以使用图片去换图片，也可以用图片换视频。  \n",
        "\n",
        "使用方法，只要依次点击或者全部运行就可以了。运行成功点击网址打开即可使用。软件的具体使用可以参考[使用教程](https://mp.weixin.qq.com/s/KJi_R31p5wIl0OwuzENobg)。  \n",
        "\n",
        "---------------------------------\n",
        "脚本来源：[tonyff](https://github.com/tan6458/roop_colab)  \n",
        "原项目：[facefusion](https://github.com/tan6458/facefusion)  \n",
        "关联脚本：[roop](https://colab.research.google.com/github/tan6458/roop_colab/blob/main/roop_v1_3.ipynb)\n",
        "\n",
        "\n",
        "\n",
        "公众号：托尼不是塔克  \n",
        "博客：[tonyisstark.com](https://www.tonyisstark.com)  "
      ]
    },
    {
      "cell_type": "code",
      "execution_count": null,
      "metadata": {
        "cellView": "form",
        "id": "LfXDWmk99Ntp"
      },
      "outputs": [],
      "source": [
        "#@title 1.克隆源代码\n",
        "!git clone https://github.com/tan6458/tonyff.git"
      ]
    },
    {
      "cell_type": "code",
      "execution_count": null,
      "metadata": {
        "cellView": "form",
        "colab": {
          "background_save": true
        },
        "id": "xRbseCrr-h_Q"
      },
      "outputs": [],
      "source": [
        "#@title 2.安装依赖\n",
        "%cd /content/tonyff\n",
        "!pip install -r requirements.txt"
      ]
    },
    {
      "cell_type": "code",
      "execution_count": null,
      "metadata": {
        "cellView": "form",
        "colab": {
          "background_save": true
        },
        "id": "nll7dBV6-7yU"
      },
      "outputs": [],
      "source": [
        "#@title 3.运行软件\n",
        "!python run.py"
      ]
    }
  ],
  "metadata": {
    "accelerator": "GPU",
    "colab": {
      "toc_visible": true,
      "provenance": [],
      "authorship_tag": "ABX9TyOVRMsYVsmNPfo2ho1WvKBV",
      "include_colab_link": true
    },
    "kernelspec": {
      "display_name": "Python 3",
      "name": "python3"
    },
    "language_info": {
      "name": "python"
    }
  },
  "nbformat": 4,
  "nbformat_minor": 0
}
